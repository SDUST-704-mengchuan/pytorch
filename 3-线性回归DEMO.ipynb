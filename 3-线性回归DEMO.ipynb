{
 "cells": [
  {
   "cell_type": "markdown",
   "metadata": {},
   "source": [
    "### 做一个线性回归试试水"
   ]
  },
  {
   "cell_type": "code",
   "execution_count": 116,
   "metadata": {},
   "outputs": [],
   "source": [
    "import torch\n",
    "import numpy as np"
   ]
  },
  {
   "cell_type": "markdown",
   "metadata": {},
   "source": [
    "创造数据集，构造输入x，和对应标签y"
   ]
  },
  {
   "cell_type": "code",
   "execution_count": 117,
   "metadata": {},
   "outputs": [
    {
     "name": "stdout",
     "output_type": "stream",
     "text": [
      "[0, 1, 2, 3, 4, 5, 6, 7, 8, 9, 10]\n",
      "[ 0.  1.  2.  3.  4.  5.  6.  7.  8.  9. 10.]\n",
      "[[ 0.]\n",
      " [ 1.]\n",
      " [ 2.]\n",
      " [ 3.]\n",
      " [ 4.]\n",
      " [ 5.]\n",
      " [ 6.]\n",
      " [ 7.]\n",
      " [ 8.]\n",
      " [ 9.]\n",
      " [10.]]\n"
     ]
    }
   ],
   "source": [
    "x_value = [i for i in range(11)]\n",
    "print(x_value)\n",
    "x_train = np.array(x_value, dtype=np.float32)\n",
    "print(x_train)\n",
    "x_train = x_train.reshape(-1,1)#把数据转化为矩阵格式\n",
    "print(x_train)"
   ]
  },
  {
   "cell_type": "code",
   "execution_count": 118,
   "metadata": {},
   "outputs": [
    {
     "name": "stdout",
     "output_type": "stream",
     "text": [
      "[1, 3, 5, 7, 9, 11, 13, 15, 17, 19, 21]\n",
      "[ 1.  3.  5.  7.  9. 11. 13. 15. 17. 19. 21.]\n",
      "[[ 1.]\n",
      " [ 3.]\n",
      " [ 5.]\n",
      " [ 7.]\n",
      " [ 9.]\n",
      " [11.]\n",
      " [13.]\n",
      " [15.]\n",
      " [17.]\n",
      " [19.]\n",
      " [21.]]\n"
     ]
    }
   ],
   "source": [
    "y_value = [2*i+1 for i in range(11)]\n",
    "print(y_value)\n",
    "y_train = np.array(y_value, dtype=np.float32)#这里格式需要 dtype=np.float32 要不后面报错\n",
    "print(y_train)\n",
    "y_train =y_train.reshape(-1,1)\n",
    "print(y_train)"
   ]
  },
  {
   "cell_type": "markdown",
   "metadata": {},
   "source": [
    "把数据转化为tensor格式"
   ]
  },
  {
   "cell_type": "code",
   "execution_count": 119,
   "metadata": {},
   "outputs": [
    {
     "name": "stdout",
     "output_type": "stream",
     "text": [
      "tensor([[ 0.],\n",
      "        [ 1.],\n",
      "        [ 2.],\n",
      "        [ 3.],\n",
      "        [ 4.],\n",
      "        [ 5.],\n",
      "        [ 6.],\n",
      "        [ 7.],\n",
      "        [ 8.],\n",
      "        [ 9.],\n",
      "        [10.]])\n",
      "tensor([[ 1.],\n",
      "        [ 3.],\n",
      "        [ 5.],\n",
      "        [ 7.],\n",
      "        [ 9.],\n",
      "        [11.],\n",
      "        [13.],\n",
      "        [15.],\n",
      "        [17.],\n",
      "        [19.],\n",
      "        [21.]])\n"
     ]
    }
   ],
   "source": [
    "#torch需要的数据类型为tensor\n",
    "x_train = torch.from_numpy(x_train)\n",
    "y_train = torch.from_numpy(y_train)  \n",
    "print(x_train)\n",
    "print(y_train)"
   ]
  },
  {
   "cell_type": "markdown",
   "metadata": {},
   "source": [
    "创建线性回归模型"
   ]
  },
  {
   "cell_type": "code",
   "execution_count": 120,
   "metadata": {},
   "outputs": [],
   "source": [
    "import torch.nn as nn"
   ]
  },
  {
   "cell_type": "markdown",
   "metadata": {},
   "source": [
    "不管定义多复杂的模型都是一个类"
   ]
  },
  {
   "cell_type": "code",
   "execution_count": 121,
   "metadata": {},
   "outputs": [
    {
     "name": "stdout",
     "output_type": "stream",
     "text": [
      "linear_regression_model(\n",
      "  (linear): Linear(in_features=1, out_features=1, bias=True)\n",
      ")\n"
     ]
    }
   ],
   "source": [
    "class linear_regression_model(nn.Module):#继承nn.Module类\n",
    "\n",
    "    def __init__(self, input_dim, output_dim):\n",
    "        super(linear_regression_model, self).__init__()\n",
    "        self.linear = nn.Linear(input_dim, output_dim)#建立一个全连接层\n",
    "\n",
    "    def forward(self, x):#前向传播顺序计算\n",
    "        out = self.linear(x)\n",
    "        return out\n",
    "    \n",
    "input_dim = 1\n",
    "output_dim = 1\n",
    "\n",
    "model = linear_regression_model(input_dim,output_dim)#创建一个模型 单层全连接\n",
    "print(model)"
   ]
  },
  {
   "cell_type": "markdown",
   "metadata": {},
   "source": [
    "指定训练参数"
   ]
  },
  {
   "cell_type": "code",
   "execution_count": 122,
   "metadata": {},
   "outputs": [],
   "source": [
    "epochs = 1000 #训练1000次\n",
    "learning_rate = 0.01 #学习率0.01\n",
    "optimzer = torch.optim.SGD(model.parameters(), lr = learning_rate) #优化器选用SDG（随机梯度下降）优化器，传入模型参数和学习率\n",
    "criterion = nn.MSELoss()#定义一个损失函数MSE（均方误差）"
   ]
  },
  {
   "cell_type": "markdown",
   "metadata": {},
   "source": [
    "训练模型"
   ]
  },
  {
   "cell_type": "code",
   "execution_count": 123,
   "metadata": {},
   "outputs": [
    {
     "name": "stdout",
     "output_type": "stream",
     "text": [
      "epoch:0, loss:57.30509948730469\n",
      "epoch:50, loss:0.0645337775349617\n",
      "epoch:100, loss:0.036807674914598465\n",
      "epoch:150, loss:0.02099374122917652\n",
      "epoch:200, loss:0.011974030174314976\n",
      "epoch:250, loss:0.006829540245234966\n",
      "epoch:300, loss:0.0038953199982643127\n",
      "epoch:350, loss:0.0022217349614948034\n",
      "epoch:400, loss:0.0012672083685174584\n",
      "epoch:450, loss:0.0007227597525343299\n",
      "epoch:500, loss:0.00041223366861231625\n",
      "epoch:550, loss:0.0002351278526475653\n",
      "epoch:600, loss:0.00013410973770078272\n",
      "epoch:650, loss:7.64898068155162e-05\n",
      "epoch:700, loss:4.3627675040625036e-05\n",
      "epoch:750, loss:2.4883216610760428e-05\n",
      "epoch:800, loss:1.4192052731232252e-05\n",
      "epoch:850, loss:8.09635912446538e-06\n",
      "epoch:900, loss:4.617950253305025e-06\n",
      "epoch:950, loss:2.6330928903917084e-06\n"
     ]
    }
   ],
   "source": [
    "for epoch in range(epochs):\n",
    "    \n",
    "    #反向传播之前清零梯度\n",
    "    optimzer.zero_grad()\n",
    "\n",
    "    #前向传播\n",
    "    output = model.forward(x_train)\n",
    "\n",
    "    #计算损失函数\n",
    "    loss =  criterion(y_train, output)\n",
    "\n",
    "    #反向传播\n",
    "    loss.backward()\n",
    "\n",
    "    #更新权重\n",
    "    optimzer.step()\n",
    "    if epoch %50 == 0:\n",
    "        print('epoch:{}, loss:{}'.format(epoch, loss.item()))#format 格式化字符串 item()从张量中取出元素"
   ]
  },
  {
   "cell_type": "markdown",
   "metadata": {},
   "source": [
    "模型预测"
   ]
  },
  {
   "cell_type": "code",
   "execution_count": 124,
   "metadata": {},
   "outputs": [
    {
     "data": {
      "text/plain": [
       "array([[ 0.99770707],\n",
       "       [ 2.9980373 ],\n",
       "       [ 4.9983673 ],\n",
       "       [ 6.9986978 ],\n",
       "       [ 8.999028  ],\n",
       "       [10.999358  ],\n",
       "       [12.999689  ],\n",
       "       [15.000019  ],\n",
       "       [17.000349  ],\n",
       "       [19.000679  ],\n",
       "       [21.001009  ]], dtype=float32)"
      ]
     },
     "execution_count": 124,
     "metadata": {},
     "output_type": "execute_result"
    }
   ],
   "source": [
    "#构建测试集\n",
    "x_test = [i for i in range(11)]\n",
    "x_test = np.array(x_test, dtype = np.float32)\n",
    "x_test = x_test.reshape(-1,1)\n",
    "x_test = torch.from_numpy(x_test)\n",
    "\n",
    "predict = model.forward(x_test).data.numpy()#预测并把结果转化为 array\n",
    "predict"
   ]
  },
  {
   "cell_type": "markdown",
   "metadata": {},
   "source": [
    "模型的保存与读取"
   ]
  },
  {
   "cell_type": "code",
   "execution_count": 125,
   "metadata": {},
   "outputs": [],
   "source": [
    "torch.save(model.state_dict(), \"model.pkl\")# 把模型权重参数保存（实际为字典），‘model.pkl’"
   ]
  },
  {
   "cell_type": "code",
   "execution_count": 126,
   "metadata": {},
   "outputs": [
    {
     "name": "stderr",
     "output_type": "stream",
     "text": [
      "C:\\Users\\DOCTOR\\AppData\\Local\\Temp\\ipykernel_4900\\1659317530.py:1: FutureWarning: You are using `torch.load` with `weights_only=False` (the current default value), which uses the default pickle module implicitly. It is possible to construct malicious pickle data which will execute arbitrary code during unpickling (See https://github.com/pytorch/pytorch/blob/main/SECURITY.md#untrusted-models for more details). In a future release, the default value for `weights_only` will be flipped to `True`. This limits the functions that could be executed during unpickling. Arbitrary objects will no longer be allowed to be loaded via this mode unless they are explicitly allowlisted by the user via `torch.serialization.add_safe_globals`. We recommend you start setting `weights_only=True` for any use case where you don't have full control of the loaded file. Please open an issue on GitHub for any issues related to this experimental feature.\n",
      "  model.load_state_dict(torch.load(\"model.pkl\"))# 加载权重参数\n"
     ]
    },
    {
     "data": {
      "text/plain": [
       "<All keys matched successfully>"
      ]
     },
     "execution_count": 126,
     "metadata": {},
     "output_type": "execute_result"
    }
   ],
   "source": [
    "model.load_state_dict(torch.load(\"model.pkl\"))# 加载权重参数"
   ]
  },
  {
   "cell_type": "markdown",
   "metadata": {},
   "source": [
    "### 使用GPU训练"
   ]
  },
  {
   "cell_type": "markdown",
   "metadata": {},
   "source": [
    "只用把数据和模型传入到cuda中就可以了"
   ]
  },
  {
   "cell_type": "code",
   "execution_count": 127,
   "metadata": {},
   "outputs": [
    {
     "name": "stdout",
     "output_type": "stream",
     "text": [
      "epoch:0, loss:36.938751220703125\n",
      "epoch:50, loss:0.0002704101207200438\n",
      "epoch:100, loss:0.00015423577860929072\n",
      "epoch:150, loss:8.797310874797404e-05\n",
      "epoch:200, loss:5.017521107220091e-05\n",
      "epoch:250, loss:2.861825851141475e-05\n",
      "epoch:300, loss:1.6322717783623375e-05\n",
      "epoch:350, loss:9.309164852311369e-06\n",
      "epoch:400, loss:5.31049454366439e-06\n",
      "epoch:450, loss:3.029210347449407e-06\n",
      "epoch:500, loss:1.7276882999794907e-06\n",
      "epoch:550, loss:9.85746964943246e-07\n",
      "epoch:600, loss:5.621758987217618e-07\n",
      "epoch:650, loss:3.206963299362542e-07\n",
      "epoch:700, loss:1.8284929126366478e-07\n",
      "epoch:750, loss:1.0426969510035633e-07\n",
      "epoch:800, loss:5.9455516066009295e-08\n",
      "epoch:850, loss:3.3841633495512724e-08\n",
      "epoch:900, loss:1.932633431067643e-08\n",
      "epoch:950, loss:1.10174767087301e-08\n"
     ]
    }
   ],
   "source": [
    "import torch\n",
    "import torch.nn as nn\n",
    "import numpy as np\n",
    "\n",
    "class linear_regression_model(nn.Module):#继承nn.Module类\n",
    "\n",
    "    def __init__(self, input_dim, output_dim):\n",
    "        super(linear_regression_model, self).__init__()\n",
    "        self.linear = nn.Linear(input_dim, output_dim)#建立一个全连接层\n",
    "\n",
    "    def forward(self, x):#前向传播顺序计算\n",
    "        out = self.linear(x)\n",
    "        return out\n",
    "    \n",
    "input_dim = 1\n",
    "output_dim = 1\n",
    "\n",
    "model = linear_regression_model(input_dim,output_dim)#创建一个模型 单层全连接\n",
    "\n",
    "device = torch.device(\"cuda:0\" if torch.cuda.is_available() else \"cpu\")# 判断gpu是否可用，不可用改为cpu\n",
    "\n",
    "model.to(device)#把模型传入GPU\n",
    "\n",
    "epochs = 1000 #训练1000次\n",
    "learning_rate = 0.01 #学习率0.01\n",
    "optimzer = torch.optim.SGD(model.parameters(), lr = learning_rate) #优化器选用SDG（随机梯度下降）优化器，传入模型参数和学习率\n",
    "criterion = nn.MSELoss()#定义一个损失函数MSE（均方误差）\n",
    "\n",
    "x_train = x_train.to(device)#把数据传入GPU\n",
    "y_train = y_train.to(device)\n",
    "\n",
    "for epoch in range(epochs):\n",
    "    \n",
    "    #反向传播之前清零梯度\n",
    "    optimzer.zero_grad()\n",
    "\n",
    "    #前向传播\n",
    "    output = model.forward(x_train)\n",
    "\n",
    "    #计算损失函数\n",
    "    loss =  criterion(y_train, output)\n",
    "\n",
    "    #反向传播\n",
    "    loss.backward()\n",
    "\n",
    "    #更新权重\n",
    "    optimzer.step()\n",
    "    if epoch %50 == 0:\n",
    "        print('epoch:{}, loss:{}'.format(epoch, loss.item()))#format 格式化字符串 item()从张量中取出元素"
   ]
  },
  {
   "cell_type": "code",
   "execution_count": null,
   "metadata": {},
   "outputs": [],
   "source": []
  }
 ],
 "metadata": {
  "kernelspec": {
   "display_name": "pytorch",
   "language": "python",
   "name": "python3"
  },
  "language_info": {
   "codemirror_mode": {
    "name": "ipython",
    "version": 3
   },
   "file_extension": ".py",
   "mimetype": "text/x-python",
   "name": "python",
   "nbconvert_exporter": "python",
   "pygments_lexer": "ipython3",
   "version": "3.10.15"
  }
 },
 "nbformat": 4,
 "nbformat_minor": 2
}
