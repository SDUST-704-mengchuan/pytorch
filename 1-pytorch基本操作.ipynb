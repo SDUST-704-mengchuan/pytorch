{
 "cells": [
  {
   "cell_type": "markdown",
   "id": "3fc3ed6cdf9c3ab1",
   "metadata": {},
   "source": [
    "### 检查pytorch是否安装成功\n"
   ]
  },
  {
   "cell_type": "code",
   "id": "a7ee6b00e2bdf464",
   "metadata": {
    "ExecuteTime": {
     "end_time": "2024-11-28T08:44:43.165646Z",
     "start_time": "2024-11-28T08:44:43.145627Z"
    }
   },
   "source": [
    "import torch\n",
    "torch.__version__"
   ],
   "outputs": [
    {
     "data": {
      "text/plain": [
       "'2.5.1+cu124'"
      ]
     },
     "execution_count": 50,
     "metadata": {},
     "output_type": "execute_result"
    }
   ],
   "execution_count": 50
  },
  {
   "cell_type": "markdown",
   "id": "10d2867b9c80e763",
   "metadata": {},
   "source": [
    "### 基本使用方法\n",
    "创建一个未初始化的矩阵"
   ]
  },
  {
   "metadata": {
    "ExecuteTime": {
     "end_time": "2024-11-28T08:44:43.205655Z",
     "start_time": "2024-11-28T08:44:43.185695Z"
    }
   },
   "cell_type": "code",
   "source": [
    "x = torch.empty(4,4)\n",
    "print(x)"
   ],
   "id": "5bdcb180734314d4",
   "outputs": [
    {
     "name": "stdout",
     "output_type": "stream",
     "text": [
      "tensor([[-1.4083e+14,  1.4966e-42,  1.3898e-01,  7.4428e-01],\n",
      "        [ 5.8130e-01,  9.1819e-01,  3.1859e-01,  7.3669e-01],\n",
      "        [ 6.1457e-02,  2.4034e-01,  8.9083e-01,  7.6649e-01],\n",
      "        [ 5.0377e-01,  1.5289e-01,  5.5651e-02,  4.7897e-01]])\n"
     ]
    }
   ],
   "execution_count": 51
  },
  {
   "cell_type": "markdown",
   "id": "d0ef4896891c440f",
   "metadata": {},
   "source": "返回一个0到1上均匀分布的矩阵"
  },
  {
   "cell_type": "code",
   "id": "f8912daab220918f",
   "metadata": {
    "ExecuteTime": {
     "end_time": "2024-11-28T08:44:43.265156Z",
     "start_time": "2024-11-28T08:44:43.255139Z"
    }
   },
   "source": [
    "x = torch.rand(4,4)\n",
    "x"
   ],
   "outputs": [
    {
     "data": {
      "text/plain": [
       "tensor([[0.4826, 0.7896, 0.7847, 0.9404],\n",
       "        [0.7244, 0.2594, 0.7860, 0.0011],\n",
       "        [0.7210, 0.9072, 0.7773, 0.3430],\n",
       "        [0.9594, 0.8045, 0.7256, 0.8607]])"
      ]
     },
     "execution_count": 52,
     "metadata": {},
     "output_type": "execute_result"
    }
   ],
   "execution_count": 52
  },
  {
   "cell_type": "markdown",
   "id": "98e4f5bdae470ce9",
   "metadata": {},
   "source": [
    "创建一个零矩阵"
   ]
  },
  {
   "cell_type": "code",
   "id": "20c7c1edbd4d5a09",
   "metadata": {
    "ExecuteTime": {
     "end_time": "2024-11-28T08:44:43.747067Z",
     "start_time": "2024-11-28T08:44:43.729065Z"
    }
   },
   "source": [
    "x = torch.zeros(4,4)\n",
    "x"
   ],
   "outputs": [
    {
     "data": {
      "text/plain": [
       "tensor([[0., 0., 0., 0.],\n",
       "        [0., 0., 0., 0.],\n",
       "        [0., 0., 0., 0.],\n",
       "        [0., 0., 0., 0.]])"
      ]
     },
     "execution_count": 53,
     "metadata": {},
     "output_type": "execute_result"
    }
   ],
   "execution_count": 53
  },
  {
   "metadata": {},
   "cell_type": "markdown",
   "source": "直接传入数据创建矩阵",
   "id": "24bcac1597fdbfbc"
  },
  {
   "metadata": {
    "ExecuteTime": {
     "end_time": "2024-11-28T08:44:44.001180Z",
     "start_time": "2024-11-28T08:44:43.983355Z"
    }
   },
   "cell_type": "code",
   "source": [
    "x = torch.tensor([[1,2,3],[4,5,6]])\n",
    "x"
   ],
   "id": "5bbda4dbbc286956",
   "outputs": [
    {
     "data": {
      "text/plain": [
       "tensor([[1, 2, 3],\n",
       "        [4, 5, 6]])"
      ]
     },
     "execution_count": 54,
     "metadata": {},
     "output_type": "execute_result"
    }
   ],
   "execution_count": 54
  },
  {
   "metadata": {},
   "cell_type": "markdown",
   "source": "构建全为1的矩阵，并全部赋值为0到1的均匀分布",
   "id": "b7299b9686d06b3d"
  },
  {
   "metadata": {
    "ExecuteTime": {
     "end_time": "2024-11-28T08:44:44.241909Z",
     "start_time": "2024-11-28T08:44:44.223780Z"
    }
   },
   "cell_type": "code",
   "source": [
    "x = x.new_ones(6, 4, dtype=torch.double)\n",
    "print(x)\n",
    "x = torch.rand_like(x, dtype=torch.float)\n",
    "print(x)"
   ],
   "id": "71cc85cdec4f95f7",
   "outputs": [
    {
     "name": "stdout",
     "output_type": "stream",
     "text": [
      "tensor([[1., 1., 1., 1.],\n",
      "        [1., 1., 1., 1.],\n",
      "        [1., 1., 1., 1.],\n",
      "        [1., 1., 1., 1.],\n",
      "        [1., 1., 1., 1.],\n",
      "        [1., 1., 1., 1.]], dtype=torch.float64)\n",
      "tensor([[0.6027, 0.6906, 0.9574, 0.8367],\n",
      "        [0.5135, 0.9470, 0.4586, 0.6701],\n",
      "        [0.4353, 0.2159, 0.0689, 0.7862],\n",
      "        [0.9610, 0.2357, 0.7018, 0.0361],\n",
      "        [0.7734, 0.8734, 0.4398, 0.5907],\n",
      "        [0.1954, 0.2898, 0.7069, 0.7783]])\n"
     ]
    }
   ],
   "execution_count": 55
  },
  {
   "metadata": {},
   "cell_type": "markdown",
   "source": "检查矩阵大小",
   "id": "35d0343f5c74caf8"
  },
  {
   "metadata": {
    "ExecuteTime": {
     "end_time": "2024-11-28T08:44:44.302398Z",
     "start_time": "2024-11-28T08:44:44.282393Z"
    }
   },
   "cell_type": "code",
   "source": "print(x.size())",
   "id": "a3d70b1ee0c7f491",
   "outputs": [
    {
     "name": "stdout",
     "output_type": "stream",
     "text": [
      "torch.Size([6, 4])\n"
     ]
    }
   ],
   "execution_count": 56
  },
  {
   "metadata": {},
   "cell_type": "markdown",
   "source": [
    "### 基本计算方法\n",
    "加法"
   ],
   "id": "ea51618180ef84ea"
  },
  {
   "metadata": {
    "ExecuteTime": {
     "end_time": "2024-11-28T08:44:44.383681Z",
     "start_time": "2024-11-28T08:44:44.373678Z"
    }
   },
   "cell_type": "code",
   "source": [
    "x = x.new_ones(6, 4, dtype=torch.int32)\n",
    "print(x)\n",
    "y = torch.rand(6,4)\n",
    "print(y)\n",
    "z = x + y\n",
    "print(z)"
   ],
   "id": "5d5e465121f3292a",
   "outputs": [
    {
     "name": "stdout",
     "output_type": "stream",
     "text": [
      "tensor([[1, 1, 1, 1],\n",
      "        [1, 1, 1, 1],\n",
      "        [1, 1, 1, 1],\n",
      "        [1, 1, 1, 1],\n",
      "        [1, 1, 1, 1],\n",
      "        [1, 1, 1, 1]], dtype=torch.int32)\n",
      "tensor([[0.7533, 0.5025, 0.3379, 0.9256],\n",
      "        [0.0365, 0.1132, 0.6366, 0.6945],\n",
      "        [0.2833, 0.5315, 0.8169, 0.0489],\n",
      "        [0.3215, 0.9264, 0.1252, 0.0626],\n",
      "        [0.1652, 0.3900, 0.8356, 0.3988],\n",
      "        [0.1188, 0.2190, 0.2479, 0.9271]])\n",
      "tensor([[1.7533, 1.5025, 1.3379, 1.9256],\n",
      "        [1.0365, 1.1132, 1.6366, 1.6945],\n",
      "        [1.2833, 1.5315, 1.8169, 1.0489],\n",
      "        [1.3215, 1.9264, 1.1252, 1.0626],\n",
      "        [1.1652, 1.3900, 1.8356, 1.3988],\n",
      "        [1.1188, 1.2190, 1.2479, 1.9271]])\n"
     ]
    }
   ],
   "execution_count": 57
  },
  {
   "metadata": {},
   "cell_type": "markdown",
   "source": "这样也能加",
   "id": "4a8950713338a4b1"
  },
  {
   "metadata": {
    "ExecuteTime": {
     "end_time": "2024-11-28T08:44:44.470394Z",
     "start_time": "2024-11-28T08:44:44.450369Z"
    }
   },
   "cell_type": "code",
   "source": [
    "z = torch.add(x,y)\n",
    "print(z)"
   ],
   "id": "4ea22fb9772d2088",
   "outputs": [
    {
     "name": "stdout",
     "output_type": "stream",
     "text": [
      "tensor([[1.7533, 1.5025, 1.3379, 1.9256],\n",
      "        [1.0365, 1.1132, 1.6366, 1.6945],\n",
      "        [1.2833, 1.5315, 1.8169, 1.0489],\n",
      "        [1.3215, 1.9264, 1.1252, 1.0626],\n",
      "        [1.1652, 1.3900, 1.8356, 1.3988],\n",
      "        [1.1188, 1.2190, 1.2479, 1.9271]])\n"
     ]
    }
   ],
   "execution_count": 58
  },
  {
   "metadata": {},
   "cell_type": "markdown",
   "source": "### 索引\n",
   "id": "9b9b078848a13de6"
  },
  {
   "metadata": {
    "ExecuteTime": {
     "end_time": "2024-11-28T08:44:44.530406Z",
     "start_time": "2024-11-28T08:44:44.510404Z"
    }
   },
   "cell_type": "code",
   "source": [
    "print(y[0,:])\n",
    "print(y[:,1])"
   ],
   "id": "af99eee83a228657",
   "outputs": [
    {
     "name": "stdout",
     "output_type": "stream",
     "text": [
      "tensor([0.7533, 0.5025, 0.3379, 0.9256])\n",
      "tensor([0.5025, 0.1132, 0.5315, 0.9264, 0.3900, 0.2190])\n"
     ]
    }
   ],
   "execution_count": 59
  },
  {
   "metadata": {},
   "cell_type": "markdown",
   "source": "### view改变矩阵维度\n",
   "id": "b3889fb6a9686af9"
  },
  {
   "metadata": {
    "ExecuteTime": {
     "end_time": "2024-11-28T08:44:44.630975Z",
     "start_time": "2024-11-28T08:44:44.624974Z"
    }
   },
   "cell_type": "code",
   "source": [
    "x = torch.rand(4,4)\n",
    "y = x.view(16)\n",
    "z = x.view(-1,8)#-1表示自动计算\n",
    "print(x.size(),y.size(),z.size())"
   ],
   "id": "155fe6b4c2152010",
   "outputs": [
    {
     "name": "stdout",
     "output_type": "stream",
     "text": [
      "torch.Size([4, 4]) torch.Size([16]) torch.Size([2, 8])\n"
     ]
    }
   ],
   "execution_count": 60
  },
  {
   "metadata": {},
   "cell_type": "markdown",
   "source": [
    "### 与Numpy协同操作\n",
    "把tensor变为array"
   ],
   "id": "fee04bf31c899b54"
  },
  {
   "metadata": {
    "ExecuteTime": {
     "end_time": "2024-11-28T08:44:44.744146Z",
     "start_time": "2024-11-28T08:44:44.724138Z"
    }
   },
   "cell_type": "code",
   "source": [
    "a = torch.ones(10)\n",
    "print(a)\n",
    "b = a.numpy()\n",
    "b"
   ],
   "id": "642240f3ad1c7277",
   "outputs": [
    {
     "name": "stdout",
     "output_type": "stream",
     "text": [
      "tensor([1., 1., 1., 1., 1., 1., 1., 1., 1., 1.])\n"
     ]
    },
    {
     "data": {
      "text/plain": [
       "array([1., 1., 1., 1., 1., 1., 1., 1., 1., 1.], dtype=float32)"
      ]
     },
     "execution_count": 61,
     "metadata": {},
     "output_type": "execute_result"
    }
   ],
   "execution_count": 61
  },
  {
   "metadata": {},
   "cell_type": "markdown",
   "source": "把array变tensor",
   "id": "395a8a263d94db50"
  },
  {
   "metadata": {
    "ExecuteTime": {
     "end_time": "2024-11-28T08:44:44.901847Z",
     "start_time": "2024-11-28T08:44:44.887838Z"
    }
   },
   "cell_type": "code",
   "source": [
    "import numpy as np\n",
    "a = np.ones(10)\n",
    "b = torch.from_numpy(a)\n",
    "print(b)"
   ],
   "id": "8de12d841b1d0771",
   "outputs": [
    {
     "name": "stdout",
     "output_type": "stream",
     "text": [
      "tensor([1., 1., 1., 1., 1., 1., 1., 1., 1., 1.], dtype=torch.float64)\n"
     ]
    }
   ],
   "execution_count": 62
  }
 ],
 "metadata": {
  "kernelspec": {
   "display_name": "pytorch",
   "language": "python",
   "name": "pytorch"
  },
  "language_info": {
   "codemirror_mode": {
    "name": "ipython",
    "version": 3
   },
   "file_extension": ".py",
   "mimetype": "text/x-python",
   "name": "python",
   "nbconvert_exporter": "python",
   "pygments_lexer": "ipython3",
   "version": "3.10.15"
  }
 },
 "nbformat": 4,
 "nbformat_minor": 5
}
