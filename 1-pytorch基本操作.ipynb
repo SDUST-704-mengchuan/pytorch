{
 "cells": [
  {
   "cell_type": "markdown",
   "id": "3fc3ed6cdf9c3ab1",
   "metadata": {},
   "source": [
    "### 检查pytorch是否安装成功\n"
   ]
  },
  {
   "cell_type": "code",
   "id": "a7ee6b00e2bdf464",
   "metadata": {
    "ExecuteTime": {
     "end_time": "2024-11-28T06:30:36.314068Z",
     "start_time": "2024-11-28T06:30:36.294032Z"
    }
   },
   "source": [
    "import torch\n",
    "torch.__version__"
   ],
   "outputs": [
    {
     "data": {
      "text/plain": [
       "'2.5.1+cu124'"
      ]
     },
     "execution_count": 21,
     "metadata": {},
     "output_type": "execute_result"
    }
   ],
   "execution_count": 21
  },
  {
   "cell_type": "markdown",
   "id": "10d2867b9c80e763",
   "metadata": {},
   "source": [
    "### 基本使用方法\n",
    "创建一个未初始化的矩阵"
   ]
  },
  {
   "metadata": {
    "ExecuteTime": {
     "end_time": "2024-11-28T06:30:37.478807Z",
     "start_time": "2024-11-28T06:30:37.458803Z"
    }
   },
   "cell_type": "code",
   "source": [
    "x = torch.empty(4,4)\n",
    "print(x)"
   ],
   "id": "5bdcb180734314d4",
   "outputs": [
    {
     "name": "stdout",
     "output_type": "stream",
     "text": [
      "tensor([[-1.4088e+14,  1.4966e-42,  0.0000e+00,  0.0000e+00],\n",
      "        [ 1.4966e-42,  0.0000e+00,  0.0000e+00,  0.0000e+00],\n",
      "        [ 0.0000e+00,  0.0000e+00,  0.0000e+00,  0.0000e+00],\n",
      "        [ 0.0000e+00,  0.0000e+00,  0.0000e+00,  0.0000e+00]])\n"
     ]
    }
   ],
   "execution_count": 22
  },
  {
   "cell_type": "markdown",
   "id": "d0ef4896891c440f",
   "metadata": {},
   "source": "返回一个0到1上均匀分布的矩阵"
  },
  {
   "cell_type": "code",
   "id": "f8912daab220918f",
   "metadata": {
    "ExecuteTime": {
     "end_time": "2024-11-28T06:30:47.882797Z",
     "start_time": "2024-11-28T06:30:47.862801Z"
    }
   },
   "source": [
    "x = torch.rand(4,4)\n",
    "x"
   ],
   "outputs": [
    {
     "data": {
      "text/plain": [
       "tensor([[0.5070, 0.9493, 0.9493, 0.5593],\n",
       "        [0.4799, 0.3532, 0.6871, 0.4277],\n",
       "        [0.9604, 0.5507, 0.6672, 0.5673],\n",
       "        [0.3788, 0.3994, 0.0249, 0.7692]])"
      ]
     },
     "execution_count": 23,
     "metadata": {},
     "output_type": "execute_result"
    }
   ],
   "execution_count": 23
  },
  {
   "cell_type": "markdown",
   "id": "98e4f5bdae470ce9",
   "metadata": {},
   "source": [
    "创建一个零矩阵"
   ]
  },
  {
   "cell_type": "code",
   "id": "20c7c1edbd4d5a09",
   "metadata": {
    "ExecuteTime": {
     "end_time": "2024-11-28T06:30:52.656255Z",
     "start_time": "2024-11-28T06:30:52.636134Z"
    }
   },
   "source": [
    "x = torch.zeros(4,4)\n",
    "x"
   ],
   "outputs": [
    {
     "data": {
      "text/plain": [
       "tensor([[0., 0., 0., 0.],\n",
       "        [0., 0., 0., 0.],\n",
       "        [0., 0., 0., 0.],\n",
       "        [0., 0., 0., 0.]])"
      ]
     },
     "execution_count": 24,
     "metadata": {},
     "output_type": "execute_result"
    }
   ],
   "execution_count": 24
  },
  {
   "metadata": {},
   "cell_type": "markdown",
   "source": "直接传入数据创建矩阵",
   "id": "24bcac1597fdbfbc"
  },
  {
   "metadata": {
    "ExecuteTime": {
     "end_time": "2024-11-28T06:30:56.618674Z",
     "start_time": "2024-11-28T06:30:56.598679Z"
    }
   },
   "cell_type": "code",
   "source": [
    "x = torch.tensor([[1,2,3],[4,5,6]])\n",
    "x"
   ],
   "id": "5bbda4dbbc286956",
   "outputs": [
    {
     "data": {
      "text/plain": [
       "tensor([[1, 2, 3],\n",
       "        [4, 5, 6]])"
      ]
     },
     "execution_count": 25,
     "metadata": {},
     "output_type": "execute_result"
    }
   ],
   "execution_count": 25
  },
  {
   "metadata": {},
   "cell_type": "markdown",
   "source": "构建全为1的矩阵，并全部赋值为0到1的均匀分布",
   "id": "b7299b9686d06b3d"
  },
  {
   "metadata": {
    "ExecuteTime": {
     "end_time": "2024-11-28T06:40:51.845053Z",
     "start_time": "2024-11-28T06:40:51.825098Z"
    }
   },
   "cell_type": "code",
   "source": [
    "x = x.new_ones(6, 4, dtype=torch.double)\n",
    "print(x)\n",
    "x = torch.rand_like(x, dtype=torch.float)\n",
    "print(x)"
   ],
   "id": "71cc85cdec4f95f7",
   "outputs": [
    {
     "name": "stdout",
     "output_type": "stream",
     "text": [
      "tensor([[1., 1., 1., 1.],\n",
      "        [1., 1., 1., 1.],\n",
      "        [1., 1., 1., 1.],\n",
      "        [1., 1., 1., 1.],\n",
      "        [1., 1., 1., 1.],\n",
      "        [1., 1., 1., 1.]], dtype=torch.float64)\n",
      "tensor([[0.0678, 0.4087, 0.2093, 0.0111],\n",
      "        [0.0994, 0.2491, 0.7257, 0.6397],\n",
      "        [0.6698, 0.8244, 0.3786, 0.8917],\n",
      "        [0.8584, 0.9146, 0.6395, 0.9895],\n",
      "        [0.6276, 0.4748, 0.1274, 0.2037],\n",
      "        [0.8562, 0.4033, 0.5444, 0.9241]])\n"
     ]
    }
   ],
   "execution_count": 29
  },
  {
   "metadata": {},
   "cell_type": "markdown",
   "source": "检查矩阵大小",
   "id": "35d0343f5c74caf8"
  },
  {
   "metadata": {
    "ExecuteTime": {
     "end_time": "2024-11-28T06:46:58.566100Z",
     "start_time": "2024-11-28T06:46:58.546103Z"
    }
   },
   "cell_type": "code",
   "source": "print(x.size())",
   "id": "a3d70b1ee0c7f491",
   "outputs": [
    {
     "name": "stdout",
     "output_type": "stream",
     "text": [
      "torch.Size([6, 4])\n"
     ]
    }
   ],
   "execution_count": 30
  },
  {
   "metadata": {},
   "cell_type": "markdown",
   "source": [
    "### 基本计算方法\n",
    "加法"
   ],
   "id": "ea51618180ef84ea"
  },
  {
   "metadata": {
    "ExecuteTime": {
     "end_time": "2024-11-28T06:50:23.028845Z",
     "start_time": "2024-11-28T06:50:23.008843Z"
    }
   },
   "cell_type": "code",
   "source": [
    "x = x.new_ones(6, 4, dtype=torch.int32)\n",
    "print(x)\n",
    "y = torch.rand(6,4)\n",
    "print(y)\n",
    "z = x + y\n",
    "print(z)"
   ],
   "id": "5d5e465121f3292a",
   "outputs": [
    {
     "name": "stdout",
     "output_type": "stream",
     "text": [
      "tensor([[1, 1, 1, 1],\n",
      "        [1, 1, 1, 1],\n",
      "        [1, 1, 1, 1],\n",
      "        [1, 1, 1, 1],\n",
      "        [1, 1, 1, 1],\n",
      "        [1, 1, 1, 1]], dtype=torch.int32)\n",
      "tensor([[0.8174, 0.6105, 0.4912, 0.6809],\n",
      "        [0.7303, 0.8843, 0.0596, 0.1681],\n",
      "        [0.9638, 0.0154, 0.3481, 0.2095],\n",
      "        [0.5646, 0.7422, 0.0581, 0.2987],\n",
      "        [0.1712, 0.1205, 0.1216, 0.3655],\n",
      "        [0.2655, 0.8565, 0.0806, 0.8159]])\n",
      "tensor([[1.8174, 1.6105, 1.4912, 1.6809],\n",
      "        [1.7303, 1.8843, 1.0596, 1.1681],\n",
      "        [1.9638, 1.0154, 1.3481, 1.2095],\n",
      "        [1.5646, 1.7422, 1.0581, 1.2987],\n",
      "        [1.1712, 1.1205, 1.1216, 1.3655],\n",
      "        [1.2655, 1.8565, 1.0806, 1.8159]])\n"
     ]
    }
   ],
   "execution_count": 33
  },
  {
   "metadata": {},
   "cell_type": "markdown",
   "source": "这样也能加",
   "id": "4a8950713338a4b1"
  },
  {
   "metadata": {
    "ExecuteTime": {
     "end_time": "2024-11-28T06:51:12.522730Z",
     "start_time": "2024-11-28T06:51:12.502723Z"
    }
   },
   "cell_type": "code",
   "source": [
    "z = torch.add(x,y)\n",
    "print(z)"
   ],
   "id": "4ea22fb9772d2088",
   "outputs": [
    {
     "name": "stdout",
     "output_type": "stream",
     "text": [
      "tensor([[1.8174, 1.6105, 1.4912, 1.6809],\n",
      "        [1.7303, 1.8843, 1.0596, 1.1681],\n",
      "        [1.9638, 1.0154, 1.3481, 1.2095],\n",
      "        [1.5646, 1.7422, 1.0581, 1.2987],\n",
      "        [1.1712, 1.1205, 1.1216, 1.3655],\n",
      "        [1.2655, 1.8565, 1.0806, 1.8159]])\n"
     ]
    }
   ],
   "execution_count": 34
  },
  {
   "metadata": {},
   "cell_type": "markdown",
   "source": "### 索引\n",
   "id": "9b9b078848a13de6"
  },
  {
   "metadata": {
    "ExecuteTime": {
     "end_time": "2024-11-28T06:55:12.293984Z",
     "start_time": "2024-11-28T06:55:12.263990Z"
    }
   },
   "cell_type": "code",
   "source": [
    "print(y[0,:])\n",
    "print(y[:,1])"
   ],
   "id": "af99eee83a228657",
   "outputs": [
    {
     "name": "stdout",
     "output_type": "stream",
     "text": [
      "tensor([0.8174, 0.6105, 0.4912, 0.6809])\n",
      "tensor([0.6105, 0.8843, 0.0154, 0.7422, 0.1205, 0.8565])\n"
     ]
    }
   ],
   "execution_count": 37
  },
  {
   "metadata": {},
   "cell_type": "markdown",
   "source": "### view改变矩阵维度\n",
   "id": "b3889fb6a9686af9"
  },
  {
   "metadata": {
    "ExecuteTime": {
     "end_time": "2024-11-28T06:57:43.955373Z",
     "start_time": "2024-11-28T06:57:43.935368Z"
    }
   },
   "cell_type": "code",
   "source": [
    "x = torch.rand(4,4)\n",
    "y = x.view(16)\n",
    "z = x.view(-1,8)#-1表示自动计算\n",
    "print(x.size(),y.size(),z.size())"
   ],
   "id": "155fe6b4c2152010",
   "outputs": [
    {
     "name": "stdout",
     "output_type": "stream",
     "text": [
      "torch.Size([4, 4]) torch.Size([16]) torch.Size([2, 8])\n"
     ]
    }
   ],
   "execution_count": 39
  },
  {
   "metadata": {},
   "cell_type": "markdown",
   "source": [
    "### 与Numpy协同操作\n",
    "把tensor变为array"
   ],
   "id": "fee04bf31c899b54"
  },
  {
   "metadata": {
    "ExecuteTime": {
     "end_time": "2024-11-28T07:03:50.494012Z",
     "start_time": "2024-11-28T07:03:50.474053Z"
    }
   },
   "cell_type": "code",
   "source": [
    "a = torch.ones(10)\n",
    "print(a)\n",
    "b = a.numpy()\n",
    "b"
   ],
   "id": "642240f3ad1c7277",
   "outputs": [
    {
     "name": "stdout",
     "output_type": "stream",
     "text": [
      "tensor([1., 1., 1., 1., 1., 1., 1., 1., 1., 1.])\n"
     ]
    },
    {
     "data": {
      "text/plain": [
       "array([1., 1., 1., 1., 1., 1., 1., 1., 1., 1.], dtype=float32)"
      ]
     },
     "execution_count": 43,
     "metadata": {},
     "output_type": "execute_result"
    }
   ],
   "execution_count": 43
  },
  {
   "metadata": {},
   "cell_type": "markdown",
   "source": "把array变tensor",
   "id": "395a8a263d94db50"
  },
  {
   "metadata": {
    "ExecuteTime": {
     "end_time": "2024-11-28T07:08:32.259183Z",
     "start_time": "2024-11-28T07:08:32.239177Z"
    }
   },
   "cell_type": "code",
   "source": [
    "import numpy as np\n",
    "a = np.ones(10)\n",
    "b = torch.from_numpy(a)\n",
    "print(b)"
   ],
   "id": "8de12d841b1d0771",
   "outputs": [
    {
     "name": "stdout",
     "output_type": "stream",
     "text": [
      "tensor([1., 1., 1., 1., 1., 1., 1., 1., 1., 1.], dtype=torch.float64)\n"
     ]
    }
   ],
   "execution_count": 49
  },
  {
   "metadata": {},
   "cell_type": "code",
   "outputs": [],
   "execution_count": null,
   "source": "",
   "id": "1790fa797c16484"
  }
 ],
 "metadata": {
  "kernelspec": {
   "display_name": "pytorch",
   "language": "python",
   "name": "pytorch"
  },
  "language_info": {
   "codemirror_mode": {
    "name": "ipython",
    "version": 3
   },
   "file_extension": ".py",
   "mimetype": "text/x-python",
   "name": "python",
   "nbconvert_exporter": "python",
   "pygments_lexer": "ipython3",
   "version": "3.10.15"
  }
 },
 "nbformat": 4,
 "nbformat_minor": 5
}
