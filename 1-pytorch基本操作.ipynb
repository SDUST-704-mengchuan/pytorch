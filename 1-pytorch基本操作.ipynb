{
 "cells": [
  {
   "metadata": {},
   "cell_type": "markdown",
   "source": "### 检查pytorch是否安装成功\n",
   "id": "3fc3ed6cdf9c3ab1"
  },
  {
   "metadata": {
    "ExecuteTime": {
     "end_time": "2024-11-27T13:49:51.806228Z",
     "start_time": "2024-11-27T13:49:51.794270Z"
    }
   },
   "cell_type": "code",
   "source": [
    "import torch\n",
    "torch.__version__"
   ],
   "id": "a7ee6b00e2bdf464",
   "outputs": [
    {
     "data": {
      "text/plain": [
       "'2.5.1+cu124'"
      ]
     },
     "execution_count": 12,
     "metadata": {},
     "output_type": "execute_result"
    }
   ],
   "execution_count": 12
  },
  {
   "metadata": {},
   "cell_type": "markdown",
   "source": [
    "### 基本使用方法\n",
    "创建一个矩阵"
   ],
   "id": "10d2867b9c80e763"
  },
  {
   "metadata": {
    "ExecuteTime": {
     "end_time": "2024-11-27T13:49:51.822177Z",
     "start_time": "2024-11-27T13:49:51.807225Z"
    }
   },
   "cell_type": "code",
   "source": [
    "x = torch.empty(4,4)\n",
    "x"
   ],
   "id": "5bdcb180734314d4",
   "outputs": [
    {
     "data": {
      "text/plain": [
       "tensor([[4.1654e-17, 1.3509e-42, 0.0000e+00, 0.0000e+00],\n",
       "        [0.0000e+00, 0.0000e+00, 0.0000e+00, 0.0000e+00],\n",
       "        [0.0000e+00, 0.0000e+00, 0.0000e+00, 0.0000e+00],\n",
       "        [0.0000e+00, 0.0000e+00, 0.0000e+00, 0.0000e+00]])"
      ]
     },
     "execution_count": 13,
     "metadata": {},
     "output_type": "execute_result"
    }
   ],
   "execution_count": 13
  },
  {
   "metadata": {},
   "cell_type": "markdown",
   "source": "来一个随机值试试水",
   "id": "d0ef4896891c440f"
  },
  {
   "metadata": {
    "ExecuteTime": {
     "end_time": "2024-11-27T13:52:26.772545Z",
     "start_time": "2024-11-27T13:52:26.756594Z"
    }
   },
   "cell_type": "code",
   "source": [
    "x = torch.rand(4,4)\n",
    "x"
   ],
   "id": "f8912daab220918f",
   "outputs": [
    {
     "data": {
      "text/plain": [
       "tensor([[0.1239, 0.6822, 0.2354, 0.1924],\n",
       "        [0.7321, 0.4888, 0.4088, 0.2715],\n",
       "        [0.0770, 0.4860, 0.8856, 0.2429],\n",
       "        [0.7249, 0.8600, 0.3315, 0.4190]])"
      ]
     },
     "execution_count": 16,
     "metadata": {},
     "output_type": "execute_result"
    }
   ],
   "execution_count": 16
  },
  {
   "metadata": {},
   "cell_type": "code",
   "outputs": [],
   "execution_count": null,
   "source": "",
   "id": "20c7c1edbd4d5a09"
  }
 ],
 "metadata": {
  "kernelspec": {
   "display_name": "Python 3",
   "language": "python",
   "name": "python3"
  },
  "language_info": {
   "codemirror_mode": {
    "name": "ipython",
    "version": 2
   },
   "file_extension": ".py",
   "mimetype": "text/x-python",
   "name": "python",
   "nbconvert_exporter": "python",
   "pygments_lexer": "ipython2",
   "version": "2.7.6"
  }
 },
 "nbformat": 4,
 "nbformat_minor": 5
}
