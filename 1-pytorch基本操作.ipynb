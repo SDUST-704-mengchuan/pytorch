{
 "cells": [
  {
   "metadata": {},
   "cell_type": "markdown",
   "source": "### 检查pytorch是否安装成功\n",
   "id": "3fc3ed6cdf9c3ab1"
  },
  {
   "metadata": {
    "ExecuteTime": {
     "end_time": "2024-11-27T14:46:17.428995Z",
     "start_time": "2024-11-27T14:46:11.616499Z"
    }
   },
   "cell_type": "code",
   "source": [
    "import torch\n",
    "torch.__version__"
   ],
   "id": "a7ee6b00e2bdf464",
   "outputs": [
    {
     "data": {
      "text/plain": [
       "'2.5.1+cu124'"
      ]
     },
     "execution_count": 1,
     "metadata": {},
     "output_type": "execute_result"
    }
   ],
   "execution_count": 1
  },
  {
   "metadata": {},
   "cell_type": "markdown",
   "source": [
    "### 基本使用方法\n",
    "创建一个矩阵"
   ],
   "id": "10d2867b9c80e763"
  },
  {
   "metadata": {
    "ExecuteTime": {
     "end_time": "2024-11-27T14:46:17.737815Z",
     "start_time": "2024-11-27T14:46:17.655236Z"
    }
   },
   "cell_type": "code",
   "source": [
    "x = torch.empty(4,4)\n",
    "print(x)"
   ],
   "id": "5bdcb180734314d4",
   "outputs": [
    {
     "data": {
      "text/plain": [
       "tensor([[3.0303e-28, 1.1743e-42, 0.0000e+00, 0.0000e+00],\n",
       "        [0.0000e+00, 0.0000e+00, 0.0000e+00, 0.0000e+00],\n",
       "        [0.0000e+00, 0.0000e+00, 0.0000e+00, 0.0000e+00],\n",
       "        [0.0000e+00, 0.0000e+00, 0.0000e+00, 0.0000e+00]])"
      ]
     },
     "execution_count": 2,
     "metadata": {},
     "output_type": "execute_result"
    }
   ],
   "execution_count": 2
  },
  {
   "metadata": {},
   "cell_type": "markdown",
   "source": "来一个随机值试试水",
   "id": "d0ef4896891c440f"
  },
  {
   "metadata": {
    "ExecuteTime": {
     "end_time": "2024-11-27T14:46:18.979883Z",
     "start_time": "2024-11-27T14:46:18.959923Z"
    }
   },
   "cell_type": "code",
   "source": [
    "x = torch.rand(4,4)\n",
    "print(x)"
   ],
   "id": "f8912daab220918f",
   "outputs": [
    {
     "data": {
      "text/plain": [
       "tensor([[0.6344, 0.8358, 0.8507, 0.5028],\n",
       "        [0.8468, 0.6749, 0.1053, 0.2806],\n",
       "        [0.7247, 0.6683, 0.8825, 0.0888],\n",
       "        [0.9473, 0.3955, 0.0530, 0.3025]])"
      ]
     },
     "execution_count": 3,
     "metadata": {},
     "output_type": "execute_result"
    }
   ],
   "execution_count": 3
  },
  {
   "metadata": {},
   "cell_type": "markdown",
   "source": "创建一个零矩阵",
   "id": "98e4f5bdae470ce9"
  },
  {
   "metadata": {
    "ExecuteTime": {
     "end_time": "2024-11-27T15:10:19.770742Z",
     "start_time": "2024-11-27T15:10:19.750734Z"
    }
   },
   "cell_type": "code",
   "outputs": [
    {
     "name": "stdout",
     "output_type": "stream",
     "text": [
      "tensor([[0., 0., 0., 0.],\n",
      "        [0., 0., 0., 0.],\n",
      "        [0., 0., 0., 0.],\n",
      "        [0., 0., 0., 0.]])\n"
     ]
    }
   ],
   "execution_count": 7,
   "source": [
    "x = torch.zeros(4,4)\n",
    "print(x)"
   ],
   "id": "20c7c1edbd4d5a09"
  }
 ],
 "metadata": {
  "kernelspec": {
   "display_name": "Python 3",
   "language": "python",
   "name": "python3"
  },
  "language_info": {
   "codemirror_mode": {
    "name": "ipython",
    "version": 2
   },
   "file_extension": ".py",
   "mimetype": "text/x-python",
   "name": "python",
   "nbconvert_exporter": "python",
   "pygments_lexer": "ipython2",
   "version": "2.7.6"
  }
 },
 "nbformat": 4,
 "nbformat_minor": 5
}
