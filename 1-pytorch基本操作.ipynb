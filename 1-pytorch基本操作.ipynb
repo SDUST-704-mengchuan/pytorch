{
 "cells": [
  {
   "cell_type": "markdown",
   "id": "3fc3ed6cdf9c3ab1",
   "metadata": {},
   "source": [
    "### 检查pytorch是否安装成功\n"
   ]
  },
  {
   "cell_type": "code",
   "execution_count": 1,
   "id": "a7ee6b00e2bdf464",
   "metadata": {
    "ExecuteTime": {
     "end_time": "2024-11-27T14:46:17.428995Z",
     "start_time": "2024-11-27T14:46:11.616499Z"
    }
   },
   "outputs": [
    {
     "data": {
      "text/plain": [
       "'2.5.1+cu124'"
      ]
     },
     "execution_count": 1,
     "metadata": {},
     "output_type": "execute_result"
    }
   ],
   "source": [
    "import torch\n",
    "torch.__version__"
   ]
  },
  {
   "cell_type": "markdown",
   "id": "10d2867b9c80e763",
   "metadata": {},
   "source": [
    "### 基本使用方法\n",
    "创建一个矩阵"
   ]
  },
  {
   "cell_type": "code",
   "execution_count": 2,
   "id": "5bdcb180734314d4",
   "metadata": {
    "ExecuteTime": {
     "end_time": "2024-11-27T14:46:17.737815Z",
     "start_time": "2024-11-27T14:46:17.655236Z"
    }
   },
   "outputs": [
    {
     "name": "stdout",
     "output_type": "stream",
     "text": [
      "tensor([[4.2236e+14, 1.3018e-42, 0.0000e+00, 0.0000e+00],\n",
      "        [0.0000e+00, 0.0000e+00, 0.0000e+00, 0.0000e+00],\n",
      "        [0.0000e+00, 0.0000e+00, 0.0000e+00, 0.0000e+00],\n",
      "        [0.0000e+00, 0.0000e+00, 0.0000e+00, 0.0000e+00]])\n"
     ]
    }
   ],
   "source": [
    "x = torch.empty(4,4)\n",
    "print(x)"
   ]
  },
  {
   "cell_type": "markdown",
   "id": "d0ef4896891c440f",
   "metadata": {},
   "source": [
    "来一个随机值试试水"
   ]
  },
  {
   "cell_type": "code",
   "execution_count": 3,
   "id": "f8912daab220918f",
   "metadata": {
    "ExecuteTime": {
     "end_time": "2024-11-27T14:46:18.979883Z",
     "start_time": "2024-11-27T14:46:18.959923Z"
    }
   },
   "outputs": [
    {
     "name": "stdout",
     "output_type": "stream",
     "text": [
      "tensor([[0.5328, 0.4684, 0.4371, 0.6689],\n",
      "        [0.3142, 0.8207, 0.1639, 0.7068],\n",
      "        [0.2985, 0.6764, 0.1921, 0.8894],\n",
      "        [0.8932, 0.6007, 0.4084, 0.1945]])\n"
     ]
    }
   ],
   "source": [
    "x = torch.rand(4,4)\n",
    "print(x)"
   ]
  },
  {
   "cell_type": "markdown",
   "id": "98e4f5bdae470ce9",
   "metadata": {},
   "source": [
    "创建一个零矩阵"
   ]
  },
  {
   "cell_type": "code",
   "execution_count": 4,
   "id": "20c7c1edbd4d5a09",
   "metadata": {
    "ExecuteTime": {
     "end_time": "2024-11-27T15:10:19.770742Z",
     "start_time": "2024-11-27T15:10:19.750734Z"
    }
   },
   "outputs": [
    {
     "name": "stdout",
     "output_type": "stream",
     "text": [
      "tensor([[0., 0., 0., 0.],\n",
      "        [0., 0., 0., 0.],\n",
      "        [0., 0., 0., 0.],\n",
      "        [0., 0., 0., 0.]])\n"
     ]
    }
   ],
   "source": [
    "x = torch.zeros(4,4)\n",
    "print(x)"
   ]
  }
 ],
 "metadata": {
  "kernelspec": {
   "display_name": "pytorch",
   "language": "python",
   "name": "pytorch"
  },
  "language_info": {
   "codemirror_mode": {
    "name": "ipython",
    "version": 3
   },
   "file_extension": ".py",
   "mimetype": "text/x-python",
   "name": "python",
   "nbconvert_exporter": "python",
   "pygments_lexer": "ipython3",
   "version": "3.10.15"
  }
 },
 "nbformat": 4,
 "nbformat_minor": 5
}
